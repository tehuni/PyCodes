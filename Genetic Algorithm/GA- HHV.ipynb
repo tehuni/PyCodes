{
 "cells": [
  {
   "cell_type": "code",
   "execution_count": 1,
   "metadata": {},
   "outputs": [
    {
     "name": "stdout",
     "output_type": "stream",
     "text": [
      "['DATAA.csv', 'DATAB.csv']\n"
     ]
    },
    {
     "data": {
      "text/html": [
       "<div>\n",
       "<style scoped>\n",
       "    .dataframe tbody tr th:only-of-type {\n",
       "        vertical-align: middle;\n",
       "    }\n",
       "\n",
       "    .dataframe tbody tr th {\n",
       "        vertical-align: top;\n",
       "    }\n",
       "\n",
       "    .dataframe thead th {\n",
       "        text-align: right;\n",
       "    }\n",
       "</style>\n",
       "<table border=\"1\" class=\"dataframe\">\n",
       "  <thead>\n",
       "    <tr style=\"text-align: right;\">\n",
       "      <th></th>\n",
       "      <th>Carbon</th>\n",
       "      <th>Hydrogen</th>\n",
       "      <th>Nitrogen</th>\n",
       "      <th>Sulfur</th>\n",
       "      <th>Oxygen</th>\n",
       "      <th>Ash</th>\n",
       "      <th>Air_MF</th>\n",
       "      <th>Steam_MF</th>\n",
       "      <th>PYROL_T</th>\n",
       "      <th>GASIF_T</th>\n",
       "      <th>Water_WGS</th>\n",
       "      <th>CAOH2</th>\n",
       "      <th>CARBONAT_T</th>\n",
       "      <th>LNG_MF</th>\n",
       "      <th>H2_P</th>\n",
       "      <th>CO2_P</th>\n",
       "      <th>POWER</th>\n",
       "      <th>PCC_P</th>\n",
       "      <th>EXERGY</th>\n",
       "      <th>HHV</th>\n",
       "    </tr>\n",
       "  </thead>\n",
       "  <tbody>\n",
       "    <tr>\n",
       "      <th>0</th>\n",
       "      <td>47.9</td>\n",
       "      <td>6.3</td>\n",
       "      <td>0.32</td>\n",
       "      <td>0.01</td>\n",
       "      <td>44.27</td>\n",
       "      <td>1.2</td>\n",
       "      <td>300</td>\n",
       "      <td>500</td>\n",
       "      <td>640</td>\n",
       "      <td>750</td>\n",
       "      <td>700</td>\n",
       "      <td>1000</td>\n",
       "      <td>310</td>\n",
       "      <td>700</td>\n",
       "      <td>82.575165</td>\n",
       "      <td>382.298959</td>\n",
       "      <td>229.700598</td>\n",
       "      <td>1350.8379</td>\n",
       "      <td>331.935067</td>\n",
       "      <td>9115.993</td>\n",
       "    </tr>\n",
       "    <tr>\n",
       "      <th>1</th>\n",
       "      <td>47.9</td>\n",
       "      <td>6.3</td>\n",
       "      <td>0.32</td>\n",
       "      <td>0.01</td>\n",
       "      <td>44.27</td>\n",
       "      <td>1.2</td>\n",
       "      <td>300</td>\n",
       "      <td>500</td>\n",
       "      <td>640</td>\n",
       "      <td>750</td>\n",
       "      <td>700</td>\n",
       "      <td>1000</td>\n",
       "      <td>310</td>\n",
       "      <td>800</td>\n",
       "      <td>82.575165</td>\n",
       "      <td>437.164581</td>\n",
       "      <td>250.991074</td>\n",
       "      <td>1350.8379</td>\n",
       "      <td>331.935067</td>\n",
       "      <td>9115.993</td>\n",
       "    </tr>\n",
       "    <tr>\n",
       "      <th>2</th>\n",
       "      <td>47.9</td>\n",
       "      <td>6.3</td>\n",
       "      <td>0.32</td>\n",
       "      <td>0.01</td>\n",
       "      <td>44.27</td>\n",
       "      <td>1.2</td>\n",
       "      <td>300</td>\n",
       "      <td>500</td>\n",
       "      <td>640</td>\n",
       "      <td>750</td>\n",
       "      <td>700</td>\n",
       "      <td>1000</td>\n",
       "      <td>310</td>\n",
       "      <td>900</td>\n",
       "      <td>82.575165</td>\n",
       "      <td>492.030203</td>\n",
       "      <td>272.277819</td>\n",
       "      <td>1350.8379</td>\n",
       "      <td>331.935067</td>\n",
       "      <td>9115.993</td>\n",
       "    </tr>\n",
       "    <tr>\n",
       "      <th>3</th>\n",
       "      <td>47.9</td>\n",
       "      <td>6.3</td>\n",
       "      <td>0.32</td>\n",
       "      <td>0.01</td>\n",
       "      <td>44.27</td>\n",
       "      <td>1.2</td>\n",
       "      <td>300</td>\n",
       "      <td>500</td>\n",
       "      <td>640</td>\n",
       "      <td>750</td>\n",
       "      <td>700</td>\n",
       "      <td>1000</td>\n",
       "      <td>310</td>\n",
       "      <td>1000</td>\n",
       "      <td>82.575165</td>\n",
       "      <td>546.895824</td>\n",
       "      <td>293.561646</td>\n",
       "      <td>1350.8379</td>\n",
       "      <td>331.935067</td>\n",
       "      <td>9115.993</td>\n",
       "    </tr>\n",
       "    <tr>\n",
       "      <th>4</th>\n",
       "      <td>47.9</td>\n",
       "      <td>6.3</td>\n",
       "      <td>0.32</td>\n",
       "      <td>0.01</td>\n",
       "      <td>44.27</td>\n",
       "      <td>1.2</td>\n",
       "      <td>300</td>\n",
       "      <td>500</td>\n",
       "      <td>640</td>\n",
       "      <td>750</td>\n",
       "      <td>700</td>\n",
       "      <td>1000</td>\n",
       "      <td>310</td>\n",
       "      <td>1100</td>\n",
       "      <td>82.575165</td>\n",
       "      <td>601.761446</td>\n",
       "      <td>314.843148</td>\n",
       "      <td>1350.8379</td>\n",
       "      <td>331.935067</td>\n",
       "      <td>9115.993</td>\n",
       "    </tr>\n",
       "  </tbody>\n",
       "</table>\n",
       "</div>"
      ],
      "text/plain": [
       "   Carbon  Hydrogen  Nitrogen  Sulfur  Oxygen  Ash  Air_MF  Steam_MF  PYROL_T  \\\n",
       "0    47.9       6.3      0.32    0.01   44.27  1.2     300       500      640   \n",
       "1    47.9       6.3      0.32    0.01   44.27  1.2     300       500      640   \n",
       "2    47.9       6.3      0.32    0.01   44.27  1.2     300       500      640   \n",
       "3    47.9       6.3      0.32    0.01   44.27  1.2     300       500      640   \n",
       "4    47.9       6.3      0.32    0.01   44.27  1.2     300       500      640   \n",
       "\n",
       "   GASIF_T  Water_WGS  CAOH2  CARBONAT_T  LNG_MF       H2_P       CO2_P  \\\n",
       "0      750        700   1000         310     700  82.575165  382.298959   \n",
       "1      750        700   1000         310     800  82.575165  437.164581   \n",
       "2      750        700   1000         310     900  82.575165  492.030203   \n",
       "3      750        700   1000         310    1000  82.575165  546.895824   \n",
       "4      750        700   1000         310    1100  82.575165  601.761446   \n",
       "\n",
       "        POWER      PCC_P      EXERGY       HHV  \n",
       "0  229.700598  1350.8379  331.935067  9115.993  \n",
       "1  250.991074  1350.8379  331.935067  9115.993  \n",
       "2  272.277819  1350.8379  331.935067  9115.993  \n",
       "3  293.561646  1350.8379  331.935067  9115.993  \n",
       "4  314.843148  1350.8379  331.935067  9115.993  "
      ]
     },
     "execution_count": 1,
     "metadata": {},
     "output_type": "execute_result"
    }
   ],
   "source": [
    "import pandas as pd\n",
    "import numpy as np\n",
    "import matplotlib.pyplot as plt\n",
    "import warnings\n",
    "\n",
    "warnings.filterwarnings(\"ignore\")\n",
    "import os\n",
    "print(os.listdir(\"input\"))\n",
    "features=pd.read_csv('input/DATAA.csv')\n",
    "features.head(5)"
   ]
  },
  {
   "cell_type": "code",
   "execution_count": 2,
   "metadata": {},
   "outputs": [
    {
     "data": {
      "text/html": [
       "<div>\n",
       "<style scoped>\n",
       "    .dataframe tbody tr th:only-of-type {\n",
       "        vertical-align: middle;\n",
       "    }\n",
       "\n",
       "    .dataframe tbody tr th {\n",
       "        vertical-align: top;\n",
       "    }\n",
       "\n",
       "    .dataframe thead th {\n",
       "        text-align: right;\n",
       "    }\n",
       "</style>\n",
       "<table border=\"1\" class=\"dataframe\">\n",
       "  <thead>\n",
       "    <tr style=\"text-align: right;\">\n",
       "      <th></th>\n",
       "      <th>Carbon</th>\n",
       "      <th>Hydrogen</th>\n",
       "      <th>Nitrogen</th>\n",
       "      <th>Sulfur</th>\n",
       "      <th>Oxygen</th>\n",
       "      <th>Ash</th>\n",
       "      <th>Air_MF</th>\n",
       "      <th>Steam_MF</th>\n",
       "      <th>PYROL_T</th>\n",
       "      <th>GASIF_T</th>\n",
       "      <th>Water_WGS</th>\n",
       "      <th>CAOH2</th>\n",
       "      <th>CARBONAT_T</th>\n",
       "      <th>LNG_MF</th>\n",
       "      <th>H2_P</th>\n",
       "      <th>CO2_P</th>\n",
       "      <th>POWER</th>\n",
       "      <th>PCC_P</th>\n",
       "      <th>EXERGY</th>\n",
       "      <th>HHV</th>\n",
       "    </tr>\n",
       "  </thead>\n",
       "  <tbody>\n",
       "    <tr>\n",
       "      <th>6171974</th>\n",
       "      <td>45.8500</td>\n",
       "      <td>6.13000</td>\n",
       "      <td>0.35000</td>\n",
       "      <td>0.00000</td>\n",
       "      <td>44.8000</td>\n",
       "      <td>2.87</td>\n",
       "      <td>405</td>\n",
       "      <td>500</td>\n",
       "      <td>460</td>\n",
       "      <td>875</td>\n",
       "      <td>800</td>\n",
       "      <td>2240</td>\n",
       "      <td>694</td>\n",
       "      <td>1400</td>\n",
       "      <td>124.767908</td>\n",
       "      <td>638.055874</td>\n",
       "      <td>461.699778</td>\n",
       "      <td>3025.87689</td>\n",
       "      <td>380.602181</td>\n",
       "      <td>8599.60152</td>\n",
       "    </tr>\n",
       "    <tr>\n",
       "      <th>2914311</th>\n",
       "      <td>48.7872</td>\n",
       "      <td>8.13120</td>\n",
       "      <td>1.35520</td>\n",
       "      <td>0.00000</td>\n",
       "      <td>38.5264</td>\n",
       "      <td>3.20</td>\n",
       "      <td>300</td>\n",
       "      <td>800</td>\n",
       "      <td>370</td>\n",
       "      <td>824</td>\n",
       "      <td>1050</td>\n",
       "      <td>3150</td>\n",
       "      <td>502</td>\n",
       "      <td>800</td>\n",
       "      <td>173.307919</td>\n",
       "      <td>228.222438</td>\n",
       "      <td>396.479651</td>\n",
       "      <td>4255.13937</td>\n",
       "      <td>438.625698</td>\n",
       "      <td>9515.01968</td>\n",
       "    </tr>\n",
       "    <tr>\n",
       "      <th>12007589</th>\n",
       "      <td>53.9460</td>\n",
       "      <td>6.53575</td>\n",
       "      <td>1.34737</td>\n",
       "      <td>0.10055</td>\n",
       "      <td>36.2604</td>\n",
       "      <td>1.81</td>\n",
       "      <td>370</td>\n",
       "      <td>780</td>\n",
       "      <td>400</td>\n",
       "      <td>800</td>\n",
       "      <td>820</td>\n",
       "      <td>1720</td>\n",
       "      <td>310</td>\n",
       "      <td>1300</td>\n",
       "      <td>77.040764</td>\n",
       "      <td>711.492689</td>\n",
       "      <td>415.779966</td>\n",
       "      <td>2323.44118</td>\n",
       "      <td>396.144528</td>\n",
       "      <td>8606.03929</td>\n",
       "    </tr>\n",
       "    <tr>\n",
       "      <th>8183224</th>\n",
       "      <td>43.7100</td>\n",
       "      <td>5.85000</td>\n",
       "      <td>0.01000</td>\n",
       "      <td>0.00000</td>\n",
       "      <td>45.1600</td>\n",
       "      <td>5.27</td>\n",
       "      <td>370</td>\n",
       "      <td>730</td>\n",
       "      <td>450</td>\n",
       "      <td>900</td>\n",
       "      <td>980</td>\n",
       "      <td>2600</td>\n",
       "      <td>566</td>\n",
       "      <td>800</td>\n",
       "      <td>129.368686</td>\n",
       "      <td>403.130903</td>\n",
       "      <td>375.824684</td>\n",
       "      <td>3512.17853</td>\n",
       "      <td>472.659452</td>\n",
       "      <td>7872.52800</td>\n",
       "    </tr>\n",
       "    <tr>\n",
       "      <th>9229618</th>\n",
       "      <td>53.9109</td>\n",
       "      <td>6.10698</td>\n",
       "      <td>0.36038</td>\n",
       "      <td>0.00000</td>\n",
       "      <td>37.1217</td>\n",
       "      <td>2.50</td>\n",
       "      <td>440</td>\n",
       "      <td>900</td>\n",
       "      <td>430</td>\n",
       "      <td>850</td>\n",
       "      <td>1200</td>\n",
       "      <td>3300</td>\n",
       "      <td>374</td>\n",
       "      <td>800</td>\n",
       "      <td>164.437667</td>\n",
       "      <td>279.833278</td>\n",
       "      <td>415.624148</td>\n",
       "      <td>4457.76506</td>\n",
       "      <td>499.622822</td>\n",
       "      <td>8598.03007</td>\n",
       "    </tr>\n",
       "  </tbody>\n",
       "</table>\n",
       "</div>"
      ],
      "text/plain": [
       "           Carbon  Hydrogen  Nitrogen   Sulfur   Oxygen   Ash  Air_MF  \\\n",
       "6171974   45.8500   6.13000   0.35000  0.00000  44.8000  2.87     405   \n",
       "2914311   48.7872   8.13120   1.35520  0.00000  38.5264  3.20     300   \n",
       "12007589  53.9460   6.53575   1.34737  0.10055  36.2604  1.81     370   \n",
       "8183224   43.7100   5.85000   0.01000  0.00000  45.1600  5.27     370   \n",
       "9229618   53.9109   6.10698   0.36038  0.00000  37.1217  2.50     440   \n",
       "\n",
       "          Steam_MF  PYROL_T  GASIF_T  Water_WGS  CAOH2  CARBONAT_T  LNG_MF  \\\n",
       "6171974        500      460      875        800   2240         694    1400   \n",
       "2914311        800      370      824       1050   3150         502     800   \n",
       "12007589       780      400      800        820   1720         310    1300   \n",
       "8183224        730      450      900        980   2600         566     800   \n",
       "9229618        900      430      850       1200   3300         374     800   \n",
       "\n",
       "                H2_P       CO2_P       POWER       PCC_P      EXERGY  \\\n",
       "6171974   124.767908  638.055874  461.699778  3025.87689  380.602181   \n",
       "2914311   173.307919  228.222438  396.479651  4255.13937  438.625698   \n",
       "12007589   77.040764  711.492689  415.779966  2323.44118  396.144528   \n",
       "8183224   129.368686  403.130903  375.824684  3512.17853  472.659452   \n",
       "9229618   164.437667  279.833278  415.624148  4457.76506  499.622822   \n",
       "\n",
       "                 HHV  \n",
       "6171974   8599.60152  \n",
       "2914311   9515.01968  \n",
       "12007589  8606.03929  \n",
       "8183224   7872.52800  \n",
       "9229618   8598.03007  "
      ]
     },
     "execution_count": 2,
     "metadata": {},
     "output_type": "execute_result"
    }
   ],
   "source": [
    "features=features.sample(n=1000000, replace=True,random_state=40)\n",
    "features.head()"
   ]
  },
  {
   "cell_type": "code",
   "execution_count": 3,
   "metadata": {},
   "outputs": [
    {
     "data": {
      "text/plain": [
       "pandas.core.frame.DataFrame"
      ]
     },
     "execution_count": 3,
     "metadata": {},
     "output_type": "execute_result"
    }
   ],
   "source": [
    "#from sklearn.model_selection import train_test_split\n",
    "#train, test = train_test_split(features,test_size=0.20,random_state=40)\n",
    "#train, valid=train_test_split(train, test_size=0.125, random_state=40)\n",
    "\n",
    "\n",
    "#col_targets=['H2_P','CO2_P','POWER','PCC_P','EXERGY','HHV']\n",
    "col_targets=['HHV']\n",
    "col_randoms = [\"Carbon\", \"Hydrogen\",\"Nitrogen\",\"Sulfur\",\"Oxygen\",\"Ash\",\"Air_MF\",\"Steam_MF\",\"PYROL_T\", \"GASIF_T\",]\n",
    "\n",
    "features_ = features[col_randoms ]\n",
    "labels = features[col_targets]\n",
    "#features= features.drop(col_targets, axis = 1)# Remove the Crop Yield from the features\n",
    "#feature_list = list(features.columns)# Saving feature names for later use\n",
    "#features = np.array(features)# Convert features to numpy array\n",
    "type(features)"
   ]
  },
  {
   "cell_type": "code",
   "execution_count": 4,
   "metadata": {},
   "outputs": [],
   "source": [
    "from sklearn.model_selection import train_test_split\n",
    "train_features, test_features, train_labels, test_labels = train_test_split(features_, labels, test_size = 0.30, random_state = 42)"
   ]
  },
  {
   "cell_type": "code",
   "execution_count": 5,
   "metadata": {},
   "outputs": [],
   "source": [
    "import numpy as np\n",
    "from sklearn.ensemble import RandomForestRegressor\n",
    "from sklearn.model_selection import cross_val_score\n",
    "from sklearn.model_selection import GridSearchCV\n",
    "from sklearn.metrics import accuracy_score"
   ]
  },
  {
   "cell_type": "code",
   "execution_count": 6,
   "metadata": {},
   "outputs": [],
   "source": [
    "rfr=RandomForestRegressor(random_state=40)"
   ]
  },
  {
   "cell_type": "code",
   "execution_count": 7,
   "metadata": {},
   "outputs": [],
   "source": [
    "param_grid = {\n",
    "    'bootstrap': [True],\n",
    "    'max_depth': [int(x) for x in np.linspace(10,100,2,endpoint=True,dtype = int)],\n",
    "    'min_samples_leaf': [int(x) for x in np.linspace(2,10,2,endpoint=True,dtype = int)],\n",
    "    'min_samples_split':[int(x) for x in np.linspace(2,15,2,endpoint=True,dtype = int)],\n",
    "    'n_estimators': [int(x) for x in np.linspace(50,1200,3,endpoint=True,dtype = int)]\n",
    "}"
   ]
  },
  {
   "cell_type": "code",
   "execution_count": 8,
   "metadata": {},
   "outputs": [
    {
     "name": "stdout",
     "output_type": "stream",
     "text": [
      "Fitting 6 folds for each of 24 candidates, totalling 144 fits\n"
     ]
    },
    {
     "data": {
      "text/plain": [
       "GridSearchCV(cv=6, estimator=RandomForestRegressor(random_state=40), n_jobs=-1,\n",
       "             param_grid={'bootstrap': [True], 'max_depth': [10, 100],\n",
       "                         'min_samples_leaf': [2, 10],\n",
       "                         'min_samples_split': [2, 15],\n",
       "                         'n_estimators': [50, 625, 1200]},\n",
       "             scoring='neg_mean_absolute_error', verbose=2)"
      ]
     },
     "execution_count": 8,
     "metadata": {},
     "output_type": "execute_result"
    }
   ],
   "source": [
    "CV_rfc = GridSearchCV(estimator=rfr, param_grid=param_grid, cv= 6,scoring='neg_mean_absolute_error',n_jobs = -1, verbose = 2)\n",
    "CV_rfc.fit(train_features,train_labels)"
   ]
  },
  {
   "cell_type": "code",
   "execution_count": 9,
   "metadata": {},
   "outputs": [
    {
     "data": {
      "text/plain": [
       "['./BaseLineModelrandom_forest_Regression.joblib']"
      ]
     },
     "execution_count": 9,
     "metadata": {},
     "output_type": "execute_result"
    }
   ],
   "source": [
    "BaseLineRFR=RandomForestRegressor(bootstrap=True,\n",
    "                                             max_depth=80,\n",
    "                                             min_samples_leaf=3,\n",
    "                                             min_samples_split=8,\n",
    "                                             n_estimators=200)\n",
    "import joblib\n",
    "\n",
    "joblib.dump(BaseLineRFR, \"./BaseLineModelrandom_forest_Regression.joblib\",compress=3)"
   ]
  },
  {
   "cell_type": "code",
   "execution_count": 10,
   "metadata": {},
   "outputs": [],
   "source": [
    "BaseLineModel = joblib.load(\"./BaseLineModelrandom_forest_Regression.joblib\")\n",
    "BaseLineModel.fit(train_features,train_labels)\n",
    "Bpredicted_labels_train_features=BaseLineModel.predict(train_features)\n",
    "Bpredicted_labels_test_features=BaseLineModel.predict(test_features)"
   ]
  },
  {
   "cell_type": "code",
   "execution_count": 11,
   "metadata": {},
   "outputs": [
    {
     "name": "stdout",
     "output_type": "stream",
     "text": [
      "MAE of Baseline Random Forest Regression Model on Training Data:  0.004968748832647669\n",
      "MAE of Baseline Random Forest Regression Model on Testing Data:  0.007537537767335228\n",
      "R2 of Baseline Random Forest Regression Model on Training Data:  0.9999999890802255\n",
      "R2 of Baseline Random Forest Regression Model on Testing Data:  0.9999999703362972\n",
      "RMSE of Baseline Random Forest Regression Model on Training Data:  0.21291460746975457\n",
      "RMSE of Baseline Random Forest Regression Model on Testing Data:  0.3504838131349687\n"
     ]
    }
   ],
   "source": [
    "from scipy.stats import pearsonr\n",
    "from sklearn.metrics import mean_squared_error\n",
    "from sklearn.metrics import mean_absolute_error\n",
    "from sklearn.metrics import r2_score\n",
    "\n",
    "#print(\"Correlation Coefficient (r) of Baseline Random Forest Regression Model on Training Data: \",pearsonr(train_labels,Bpredicted_labels_train_features))\n",
    "#print(\"Correlation Coefficient (r) of Baseline Random Forest Regression Model on Testing Data: \",pearsonr(test_labels,Bpredicted_labels_test_features))\n",
    "\n",
    "print(\"MAE of Baseline Random Forest Regression Model on Training Data: \",mean_absolute_error(train_labels,Bpredicted_labels_train_features))\n",
    "print(\"MAE of Baseline Random Forest Regression Model on Testing Data: \",mean_absolute_error(test_labels,Bpredicted_labels_test_features))\n",
    "\n",
    "print(\"R2 of Baseline Random Forest Regression Model on Training Data: \",r2_score(train_labels,Bpredicted_labels_train_features))\n",
    "print(\"R2 of Baseline Random Forest Regression Model on Testing Data: \",r2_score(test_labels,Bpredicted_labels_test_features))\n",
    "\n",
    "print(\"RMSE of Baseline Random Forest Regression Model on Training Data: \",np.sqrt(mean_squared_error(train_labels,Bpredicted_labels_train_features)))\n",
    "print(\"RMSE of Baseline Random Forest Regression Model on Testing Data: \",np.sqrt(mean_squared_error(test_labels,Bpredicted_labels_test_features)))"
   ]
  },
  {
   "cell_type": "code",
   "execution_count": 12,
   "metadata": {},
   "outputs": [
    {
     "name": "stdout",
     "output_type": "stream",
     "text": [
      "Selecting features with genetic algorithm.\n",
      "gen\tnevals\tavg                                  \tstd                                  \tmin                                     \tmax                                  \n",
      "0  \t20    \t[-513.014163    3.05        0.957251]\t[ 217.71473     1.395529    0.751428]\t[-1186.197343     1.           0.098146]\t[-115.125241    5.          4.048647]\n",
      "1  \t2     \t[-392.537512    3.75        0.783367]\t[ 253.746391    1.134681    0.928458]\t[-1209.358657     2.           0.098146]\t[-115.125241    5.          4.651441]\n",
      "2  \t0     \t[-239.449015    3.8         0.560829]\t[ 141.229375    0.927362    0.32101 ]\t[-517.77738     3.          0.098146]   \t[-115.125241    5.          0.886402]\n",
      "3  \t0     \t[-141.446941    3.15        0.323617]\t[ 40.42917    0.47697    0.346945]   \t[-220.139554    3.          0.098146]   \t[-115.125241    5.          0.886402]\n",
      "4  \t0     \t[-119.336364    3.          0.137558]\t[ 18.35586    0.         0.171796]   \t[-199.347704    3.          0.098146]   \t[-115.125241    3.          0.886402]\n",
      "5  \t2     \t[-115.12525     3.          0.098265]\t[ 0.000517  0.        0.000406]      \t[-115.126963    3.          0.098146]   \t[-115.123697    3.          0.099941]\n",
      "6  \t0     \t[-115.125086    3.          0.098205]\t[ 0.000463  0.        0.000178]      \t[-115.125241    3.          0.098146]   \t[-115.123697    3.          0.09874 ]\n",
      "7  \t0     \t[-115.124932    3.          0.098265]\t[ 0.000617  0.        0.000238]      \t[-115.125241    3.          0.098146]   \t[-115.123697    3.          0.09874 ]\n",
      "8  \t0     \t[-115.124623    3.          0.098384]\t[ 0.000756  0.        0.000291]      \t[-115.125241    3.          0.098146]   \t[-115.123697    3.          0.09874 ]\n",
      "9  \t0     \t[-115.124238    3.          0.098532]\t[ 0.000736  0.        0.000284]      \t[-115.125241    3.          0.098146]   \t[-115.123697    3.          0.09874 ]\n",
      "10 \t0     \t[-115.123852    3.          0.098681]\t[ 0.000463  0.        0.000178]      \t[-115.125241    3.          0.098146]   \t[-115.123697    3.          0.09874 ]\n"
     ]
    }
   ],
   "source": [
    "from sklearn import linear_model\n",
    "from genetic_selection import GeneticSelectionCV\n",
    "\n",
    "                                        \n",
    "Featureselector = GeneticSelectionCV(BaseLineModel,\n",
    "                                  cv=5,\n",
    "                                  verbose=1,\n",
    "                                  scoring=\"neg_mean_absolute_error\", \n",
    "                                  max_features=5,\n",
    "                                  n_population=20,\n",
    "                                  crossover_proba=0.05,\n",
    "                                  mutation_proba=0.001,\n",
    "                                  n_generations=50,\n",
    "                                  crossover_independent_proba=0.5,\n",
    "                                  mutation_independent_proba=0.05,\n",
    "                                  tournament_size=3,\n",
    "                                  n_gen_no_change=10,\n",
    "                                  caching=True,\n",
    "                                  n_jobs=-1)\n",
    "FeatureselectorModel = Featureselector.fit(train_features,train_labels)"
   ]
  },
  {
   "cell_type": "code",
   "execution_count": 13,
   "metadata": {},
   "outputs": [
    {
     "data": {
      "text/html": [
       "<div>\n",
       "<style scoped>\n",
       "    .dataframe tbody tr th:only-of-type {\n",
       "        vertical-align: middle;\n",
       "    }\n",
       "\n",
       "    .dataframe tbody tr th {\n",
       "        vertical-align: top;\n",
       "    }\n",
       "\n",
       "    .dataframe thead th {\n",
       "        text-align: right;\n",
       "    }\n",
       "</style>\n",
       "<table border=\"1\" class=\"dataframe\">\n",
       "  <thead>\n",
       "    <tr style=\"text-align: right;\">\n",
       "      <th></th>\n",
       "      <th>Carbon</th>\n",
       "      <th>Hydrogen</th>\n",
       "      <th>Nitrogen</th>\n",
       "      <th>Sulfur</th>\n",
       "      <th>Oxygen</th>\n",
       "      <th>Ash</th>\n",
       "      <th>Air_MF</th>\n",
       "      <th>Steam_MF</th>\n",
       "      <th>PYROL_T</th>\n",
       "      <th>GASIF_T</th>\n",
       "    </tr>\n",
       "  </thead>\n",
       "  <tbody>\n",
       "    <tr>\n",
       "      <th>6171974</th>\n",
       "      <td>45.8500</td>\n",
       "      <td>6.13000</td>\n",
       "      <td>0.35000</td>\n",
       "      <td>0.00000</td>\n",
       "      <td>44.8000</td>\n",
       "      <td>2.87</td>\n",
       "      <td>405</td>\n",
       "      <td>500</td>\n",
       "      <td>460</td>\n",
       "      <td>875</td>\n",
       "    </tr>\n",
       "    <tr>\n",
       "      <th>2914311</th>\n",
       "      <td>48.7872</td>\n",
       "      <td>8.13120</td>\n",
       "      <td>1.35520</td>\n",
       "      <td>0.00000</td>\n",
       "      <td>38.5264</td>\n",
       "      <td>3.20</td>\n",
       "      <td>300</td>\n",
       "      <td>800</td>\n",
       "      <td>370</td>\n",
       "      <td>824</td>\n",
       "    </tr>\n",
       "    <tr>\n",
       "      <th>12007589</th>\n",
       "      <td>53.9460</td>\n",
       "      <td>6.53575</td>\n",
       "      <td>1.34737</td>\n",
       "      <td>0.10055</td>\n",
       "      <td>36.2604</td>\n",
       "      <td>1.81</td>\n",
       "      <td>370</td>\n",
       "      <td>780</td>\n",
       "      <td>400</td>\n",
       "      <td>800</td>\n",
       "    </tr>\n",
       "    <tr>\n",
       "      <th>8183224</th>\n",
       "      <td>43.7100</td>\n",
       "      <td>5.85000</td>\n",
       "      <td>0.01000</td>\n",
       "      <td>0.00000</td>\n",
       "      <td>45.1600</td>\n",
       "      <td>5.27</td>\n",
       "      <td>370</td>\n",
       "      <td>730</td>\n",
       "      <td>450</td>\n",
       "      <td>900</td>\n",
       "    </tr>\n",
       "    <tr>\n",
       "      <th>9229618</th>\n",
       "      <td>53.9109</td>\n",
       "      <td>6.10698</td>\n",
       "      <td>0.36038</td>\n",
       "      <td>0.00000</td>\n",
       "      <td>37.1217</td>\n",
       "      <td>2.50</td>\n",
       "      <td>440</td>\n",
       "      <td>900</td>\n",
       "      <td>430</td>\n",
       "      <td>850</td>\n",
       "    </tr>\n",
       "  </tbody>\n",
       "</table>\n",
       "</div>"
      ],
      "text/plain": [
       "           Carbon  Hydrogen  Nitrogen   Sulfur   Oxygen   Ash  Air_MF  \\\n",
       "6171974   45.8500   6.13000   0.35000  0.00000  44.8000  2.87     405   \n",
       "2914311   48.7872   8.13120   1.35520  0.00000  38.5264  3.20     300   \n",
       "12007589  53.9460   6.53575   1.34737  0.10055  36.2604  1.81     370   \n",
       "8183224   43.7100   5.85000   0.01000  0.00000  45.1600  5.27     370   \n",
       "9229618   53.9109   6.10698   0.36038  0.00000  37.1217  2.50     440   \n",
       "\n",
       "          Steam_MF  PYROL_T  GASIF_T  \n",
       "6171974        500      460      875  \n",
       "2914311        800      370      824  \n",
       "12007589       780      400      800  \n",
       "8183224        730      450      900  \n",
       "9229618        900      430      850  "
      ]
     },
     "execution_count": 13,
     "metadata": {},
     "output_type": "execute_result"
    }
   ],
   "source": [
    "features_.head()"
   ]
  },
  {
   "cell_type": "code",
   "execution_count": 14,
   "metadata": {},
   "outputs": [
    {
     "ename": "TypeError",
     "evalue": "Neither the `x` nor `y` variable appears to be numeric.",
     "output_type": "error",
     "traceback": [
      "\u001b[1;31m---------------------------------------------------------------------------\u001b[0m",
      "\u001b[1;31mTypeError\u001b[0m                                 Traceback (most recent call last)",
      "\u001b[1;32mc:\\Users\\mostafa\\Documents\\Code_Python_Biomass\\tak tak\\GA-paper main test - HHV.ipynb Cell 14\u001b[0m in \u001b[0;36m<module>\u001b[1;34m\u001b[0m\n\u001b[0;32m      <a href='vscode-notebook-cell:/c%3A/Users/mostafa/Documents/Code_Python_Biomass/tak%20tak/GA-paper%20main%20test%20-%20HHV.ipynb#X16sZmlsZQ%3D%3D?line=7'>8</a>\u001b[0m \u001b[39mimport\u001b[39;00m \u001b[39mseaborn\u001b[39;00m \u001b[39mas\u001b[39;00m \u001b[39msns\u001b[39;00m\n\u001b[0;32m      <a href='vscode-notebook-cell:/c%3A/Users/mostafa/Documents/Code_Python_Biomass/tak%20tak/GA-paper%20main%20test%20-%20HHV.ipynb#X16sZmlsZQ%3D%3D?line=8'>9</a>\u001b[0m \u001b[39mimport\u001b[39;00m \u001b[39mmatplotlib\u001b[39;00m\u001b[39m.\u001b[39;00m\u001b[39mpyplot\u001b[39;00m \u001b[39mas\u001b[39;00m \u001b[39mplt\u001b[39;00m\n\u001b[1;32m---> <a href='vscode-notebook-cell:/c%3A/Users/mostafa/Documents/Code_Python_Biomass/tak%20tak/GA-paper%20main%20test%20-%20HHV.ipynb#X16sZmlsZQ%3D%3D?line=9'>10</a>\u001b[0m sns\u001b[39m.\u001b[39;49mfactorplot(x\u001b[39m=\u001b[39;49m \u001b[39m'\u001b[39;49m\u001b[39mFeature\u001b[39;49m\u001b[39m'\u001b[39;49m, y\u001b[39m=\u001b[39;49m \u001b[39m'\u001b[39;49m\u001b[39mSupport\u001b[39;49m\u001b[39m'\u001b[39;49m, data\u001b[39m=\u001b[39;49m Transpose, kind \u001b[39m=\u001b[39;49m \u001b[39m'\u001b[39;49m\u001b[39mbar\u001b[39;49m\u001b[39m'\u001b[39;49m, legend\u001b[39m=\u001b[39;49m\u001b[39m'\u001b[39;49m\u001b[39mTrue\u001b[39;49m\u001b[39m'\u001b[39;49m)\n\u001b[0;32m     <a href='vscode-notebook-cell:/c%3A/Users/mostafa/Documents/Code_Python_Biomass/tak%20tak/GA-paper%20main%20test%20-%20HHV.ipynb#X16sZmlsZQ%3D%3D?line=10'>11</a>\u001b[0m plt\u001b[39m.\u001b[39mtitle(\u001b[39m'\u001b[39m\u001b[39mFeature Selection\u001b[39m\u001b[39m'\u001b[39m,fontsize\u001b[39m=\u001b[39m\u001b[39m15\u001b[39m)\n\u001b[0;32m     <a href='vscode-notebook-cell:/c%3A/Users/mostafa/Documents/Code_Python_Biomass/tak%20tak/GA-paper%20main%20test%20-%20HHV.ipynb#X16sZmlsZQ%3D%3D?line=11'>12</a>\u001b[0m plt\u001b[39m.\u001b[39mshow()\n",
      "File \u001b[1;32mc:\\Users\\mostafa\\AppData\\Local\\Programs\\Python\\Python310\\lib\\site-packages\\seaborn\\categorical.py:3727\u001b[0m, in \u001b[0;36mfactorplot\u001b[1;34m(*args, **kwargs)\u001b[0m\n\u001b[0;32m   3723\u001b[0m     warnings\u001b[39m.\u001b[39mwarn(msg, \u001b[39mUserWarning\u001b[39;00m)\n\u001b[0;32m   3725\u001b[0m kwargs\u001b[39m.\u001b[39msetdefault(\u001b[39m\"\u001b[39m\u001b[39mkind\u001b[39m\u001b[39m\"\u001b[39m, \u001b[39m\"\u001b[39m\u001b[39mpoint\u001b[39m\u001b[39m\"\u001b[39m)\n\u001b[1;32m-> 3727\u001b[0m \u001b[39mreturn\u001b[39;00m catplot(\u001b[39m*\u001b[39margs, \u001b[39m*\u001b[39m\u001b[39m*\u001b[39mkwargs)\n",
      "File \u001b[1;32mc:\\Users\\mostafa\\AppData\\Local\\Programs\\Python\\Python310\\lib\\site-packages\\seaborn\\_decorators.py:46\u001b[0m, in \u001b[0;36m_deprecate_positional_args.<locals>.inner_f\u001b[1;34m(*args, **kwargs)\u001b[0m\n\u001b[0;32m     36\u001b[0m     warnings\u001b[39m.\u001b[39mwarn(\n\u001b[0;32m     37\u001b[0m         \u001b[39m\"\u001b[39m\u001b[39mPass the following variable\u001b[39m\u001b[39m{}\u001b[39;00m\u001b[39m as \u001b[39m\u001b[39m{}\u001b[39;00m\u001b[39mkeyword arg\u001b[39m\u001b[39m{}\u001b[39;00m\u001b[39m: \u001b[39m\u001b[39m{}\u001b[39;00m\u001b[39m. \u001b[39m\u001b[39m\"\u001b[39m\n\u001b[0;32m     38\u001b[0m         \u001b[39m\"\u001b[39m\u001b[39mFrom version 0.12, the only valid positional argument \u001b[39m\u001b[39m\"\u001b[39m\n\u001b[1;32m   (...)\u001b[0m\n\u001b[0;32m     43\u001b[0m         \u001b[39mFutureWarning\u001b[39;00m\n\u001b[0;32m     44\u001b[0m     )\n\u001b[0;32m     45\u001b[0m kwargs\u001b[39m.\u001b[39mupdate({k: arg \u001b[39mfor\u001b[39;00m k, arg \u001b[39min\u001b[39;00m \u001b[39mzip\u001b[39m(sig\u001b[39m.\u001b[39mparameters, args)})\n\u001b[1;32m---> 46\u001b[0m \u001b[39mreturn\u001b[39;00m f(\u001b[39m*\u001b[39m\u001b[39m*\u001b[39mkwargs)\n",
      "File \u001b[1;32mc:\\Users\\mostafa\\AppData\\Local\\Programs\\Python\\Python310\\lib\\site-packages\\seaborn\\categorical.py:3792\u001b[0m, in \u001b[0;36mcatplot\u001b[1;34m(x, y, hue, data, row, col, col_wrap, estimator, ci, n_boot, units, seed, order, hue_order, row_order, col_order, kind, height, aspect, orient, color, palette, legend, legend_out, sharex, sharey, margin_titles, facet_kws, **kwargs)\u001b[0m\n\u001b[0;32m   3790\u001b[0m p \u001b[39m=\u001b[39m _CategoricalPlotter()\n\u001b[0;32m   3791\u001b[0m p\u001b[39m.\u001b[39mrequire_numeric \u001b[39m=\u001b[39m plotter_class\u001b[39m.\u001b[39mrequire_numeric\n\u001b[1;32m-> 3792\u001b[0m p\u001b[39m.\u001b[39;49mestablish_variables(x_, y_, hue, data, orient, order, hue_order)\n\u001b[0;32m   3793\u001b[0m \u001b[39mif\u001b[39;00m (\n\u001b[0;32m   3794\u001b[0m     order \u001b[39mis\u001b[39;00m \u001b[39mnot\u001b[39;00m \u001b[39mNone\u001b[39;00m\n\u001b[0;32m   3795\u001b[0m     \u001b[39mor\u001b[39;00m (sharex \u001b[39mand\u001b[39;00m p\u001b[39m.\u001b[39morient \u001b[39m==\u001b[39m \u001b[39m\"\u001b[39m\u001b[39mv\u001b[39m\u001b[39m\"\u001b[39m)\n\u001b[0;32m   3796\u001b[0m     \u001b[39mor\u001b[39;00m (sharey \u001b[39mand\u001b[39;00m p\u001b[39m.\u001b[39morient \u001b[39m==\u001b[39m \u001b[39m\"\u001b[39m\u001b[39mh\u001b[39m\u001b[39m\"\u001b[39m)\n\u001b[0;32m   3797\u001b[0m ):\n\u001b[0;32m   3798\u001b[0m     \u001b[39m# Sync categorical axis between facets to have the same categories\u001b[39;00m\n\u001b[0;32m   3799\u001b[0m     order \u001b[39m=\u001b[39m p\u001b[39m.\u001b[39mgroup_names\n",
      "File \u001b[1;32mc:\\Users\\mostafa\\AppData\\Local\\Programs\\Python\\Python310\\lib\\site-packages\\seaborn\\categorical.py:156\u001b[0m, in \u001b[0;36m_CategoricalPlotter.establish_variables\u001b[1;34m(self, x, y, hue, data, orient, order, hue_order, units)\u001b[0m\n\u001b[0;32m    153\u001b[0m         \u001b[39mraise\u001b[39;00m \u001b[39mValueError\u001b[39;00m(err)\n\u001b[0;32m    155\u001b[0m \u001b[39m# Figure out the plotting orientation\u001b[39;00m\n\u001b[1;32m--> 156\u001b[0m orient \u001b[39m=\u001b[39m infer_orient(\n\u001b[0;32m    157\u001b[0m     x, y, orient, require_numeric\u001b[39m=\u001b[39;49m\u001b[39mself\u001b[39;49m\u001b[39m.\u001b[39;49mrequire_numeric\n\u001b[0;32m    158\u001b[0m )\n\u001b[0;32m    160\u001b[0m \u001b[39m# Option 2a:\u001b[39;00m\n\u001b[0;32m    161\u001b[0m \u001b[39m# We are plotting a single set of data\u001b[39;00m\n\u001b[0;32m    162\u001b[0m \u001b[39m# ------------------------------------\u001b[39;00m\n\u001b[0;32m    163\u001b[0m \u001b[39mif\u001b[39;00m x \u001b[39mis\u001b[39;00m \u001b[39mNone\u001b[39;00m \u001b[39mor\u001b[39;00m y \u001b[39mis\u001b[39;00m \u001b[39mNone\u001b[39;00m:\n\u001b[0;32m    164\u001b[0m \n\u001b[0;32m    165\u001b[0m     \u001b[39m# Determine where the data are\u001b[39;00m\n",
      "File \u001b[1;32mc:\\Users\\mostafa\\AppData\\Local\\Programs\\Python\\Python310\\lib\\site-packages\\seaborn\\_core.py:1352\u001b[0m, in \u001b[0;36minfer_orient\u001b[1;34m(x, y, orient, require_numeric)\u001b[0m\n\u001b[0;32m   1350\u001b[0m \u001b[39melif\u001b[39;00m require_numeric \u001b[39mand\u001b[39;00m \u001b[39m\"\u001b[39m\u001b[39mnumeric\u001b[39m\u001b[39m\"\u001b[39m \u001b[39mnot\u001b[39;00m \u001b[39min\u001b[39;00m (x_type, y_type):\n\u001b[0;32m   1351\u001b[0m     err \u001b[39m=\u001b[39m \u001b[39m\"\u001b[39m\u001b[39mNeither the `x` nor `y` variable appears to be numeric.\u001b[39m\u001b[39m\"\u001b[39m\n\u001b[1;32m-> 1352\u001b[0m     \u001b[39mraise\u001b[39;00m \u001b[39mTypeError\u001b[39;00m(err)\n\u001b[0;32m   1354\u001b[0m \u001b[39melse\u001b[39;00m:\n\u001b[0;32m   1355\u001b[0m     \u001b[39mreturn\u001b[39;00m \u001b[39m\"\u001b[39m\u001b[39mv\u001b[39m\u001b[39m\"\u001b[39m\n",
      "\u001b[1;31mTypeError\u001b[0m: Neither the `x` nor `y` variable appears to be numeric."
     ]
    }
   ],
   "source": [
    "featurename= list(features_.columns.values)\n",
    "\n",
    "df = pd.DataFrame((featurename,Featureselector.support_,Featureselector.generation_scores_))\n",
    "\n",
    "Transpose=df.T\n",
    "Transpose.columns =['Feature','Support','Score']\n",
    "Transpose.head()\n",
    "import seaborn as sns\n",
    "import matplotlib.pyplot as plt\n",
    "sns.factorplot(x= 'Feature', y= 'Support', data= Transpose, kind = 'bar', legend='True')\n",
    "plt.title('Feature Selection',fontsize=15)\n",
    "plt.show()\n",
    "Transpose"
   ]
  },
  {
   "cell_type": "code",
   "execution_count": 15,
   "metadata": {},
   "outputs": [
    {
     "name": "stdout",
     "output_type": "stream",
     "text": [
      "Correlation Coefficient (r) of Optimised Random Forest Regression Model on Training Data:  0.993758019714242\n",
      "Correlation Coefficient (r) of Optimised Random Forest Regression Model on Testing Data:  0.9937318670274506\n",
      "MAE of Optimised Random Forest Regression Model on Training Data:  114.90829062811794\n",
      "MAE of Optimised Random Forest Regression Model on Testing Data:  114.96716528892853\n",
      "RMSE of Optimised Random Forest Regression Model on Training Data:  160.9755131103542\n",
      "RMSE of Optimised Random Forest Regression Model on Testning Data:  161.11070008707276\n"
     ]
    }
   ],
   "source": [
    "predicted_labels_train_features=FeatureselectorModel .predict(train_features)\n",
    "predicted_labels_test_features=FeatureselectorModel .predict(test_features)\n",
    "\n",
    "print(\"Correlation Coefficient (r) of Optimised Random Forest Regression Model on Training Data: \",r2_score(train_labels,predicted_labels_train_features))\n",
    "print(\"Correlation Coefficient (r) of Optimised Random Forest Regression Model on Testing Data: \",r2_score(test_labels,predicted_labels_test_features))\n",
    "\n",
    "print(\"MAE of Optimised Random Forest Regression Model on Training Data: \",mean_absolute_error(train_labels,predicted_labels_train_features))#t/ha\n",
    "print(\"MAE of Optimised Random Forest Regression Model on Testing Data: \",mean_absolute_error(test_labels,predicted_labels_test_features))#t/ha\n",
    "\n",
    "print(\"RMSE of Optimised Random Forest Regression Model on Training Data: \",np.sqrt(mean_squared_error(train_labels,predicted_labels_train_features)))#t/ha\n",
    "print(\"RMSE of Optimised Random Forest Regression Model on Testning Data: \",np.sqrt(mean_squared_error(test_labels,predicted_labels_test_features)))#t/ha"
   ]
  },
  {
   "cell_type": "code",
   "execution_count": 16,
   "metadata": {},
   "outputs": [
    {
     "data": {
      "text/plain": [
       "<matplotlib.legend.Legend at 0x288c8237d30>"
      ]
     },
     "execution_count": 16,
     "metadata": {},
     "output_type": "execute_result"
    },
    {
     "data": {
      "image/png": "[encoded data removed]",
      "text/plain": [
       "<Figure size 432x288 with 1 Axes>"
      ]
     },
     "metadata": {
      "needs_background": "light"
     },
     "output_type": "display_data"
    }
   ],
   "source": [
    "plt.plot(predicted_labels_train_features)\n",
    "plt.plot(predicted_labels_test_features)\n",
    "plt.plot(Bpredicted_labels_train_features)\n",
    "plt.plot(Bpredicted_labels_train_features)\n",
    "\n",
    "plt.legend(['predicted_labels_train_features','predicted_labels_test_features'])"
   ]
  },
  {
   "cell_type": "code",
   "execution_count": 17,
   "metadata": {},
   "outputs": [
    {
     "data": {
      "text/plain": [
       "<Figure size 1080x360 with 0 Axes>"
      ]
     },
     "metadata": {},
     "output_type": "display_data"
    }
   ],
   "source": [
    "fig = plt.figure(figsize=(15,5))"
   ]
  },
  {
   "cell_type": "code",
   "execution_count": 18,
   "metadata": {},
   "outputs": [
    {
     "name": "stderr",
     "output_type": "stream",
     "text": [
      "No artists with labels found to put in legend.  Note that artists whose label start with an underscore are ignored when legend() is called with no argument.\n"
     ]
    },
    {
     "data": {
      "text/plain": [
       "<matplotlib.legend.Legend at 0x288c8acc490>"
      ]
     },
     "execution_count": 18,
     "metadata": {},
     "output_type": "execute_result"
    },
    {
     "data": {
      "image/png": "[encoded data removed]",
      "text/plain": [
       "<Figure size 432x288 with 1 Axes>"
      ]
     },
     "metadata": {
      "needs_background": "light"
     },
     "output_type": "display_data"
    }
   ],
   "source": [
    "ax1 = plt.subplot(1, 2, 1)\n",
    "ax1.scatter(train_labels,Bpredicted_labels_train_features,s=10, c='b', marker=\"o\")\n",
    "ax1.scatter(test_labels,Bpredicted_labels_test_features,s=10, c='r', marker=\"o\")\n",
    "plt.xlabel('Observed Yield (t/ha)',fontsize=15)\n",
    "plt.ylabel('Predicted Yield(t/ha)',fontsize=15)\n",
    "plt.title('Baseline Model',fontsize=15)\n",
    "plt.legend(loc=\"lower right\")"
   ]
  },
  {
   "cell_type": "code",
   "execution_count": 19,
   "metadata": {},
   "outputs": [
    {
     "name": "stderr",
     "output_type": "stream",
     "text": [
      "No artists with labels found to put in legend.  Note that artists whose label start with an underscore are ignored when legend() is called with no argument.\n"
     ]
    },
    {
     "data": {
      "image/png": "[encoded data removed]",
      "text/plain": [
       "<Figure size 432x288 with 1 Axes>"
      ]
     },
     "metadata": {
      "needs_background": "light"
     },
     "output_type": "display_data"
    }
   ],
   "source": [
    "ax1 = plt.subplot(1, 2, 2)\n",
    "ax1.scatter(train_labels,predicted_labels_train_features,s=10, c='b', marker=\"o\")\n",
    "ax1.scatter(test_labels,predicted_labels_test_features,s=10, c='r', marker=\"o\")\n",
    "plt.xlabel('Observed Yield (t/ha)',fontsize=10)\n",
    "plt.ylabel('Predicted Yield(t/ha)',fontsize=10)\n",
    "plt.title('Optimised Model',fontsize=10)\n",
    "plt.legend(loc=\"lower right\")\n",
    "plt.show()"
   ]
  },
  {
   "cell_type": "code",
   "execution_count": 21,
   "metadata": {},
   "outputs": [
    {
     "data": {
      "text/plain": [
       "Text(0, 0.5, 'Predicted')"
      ]
     },
     "execution_count": 21,
     "metadata": {},
     "output_type": "execute_result"
    },
    {
     "data": {
      "image/png": "[encoded data removed]",
      "text/plain": [
       "<Figure size 432x288 with 1 Axes>"
      ]
     },
     "metadata": {
      "needs_background": "light"
     },
     "output_type": "display_data"
    }
   ],
   "source": [
    "plt.scatter(test_labels,predicted_labels_test_features)\n",
    "plt.plot([test_labels.min(),test_labels.max()],[predicted_labels_test_features.min(),predicted_labels_test_features.max()], color='red')\n",
    "#plt.scatter(valid_y,valid_y, color='red')\n",
    "plt.xlabel('Actual')\n",
    "plt.ylabel('Predicted')"
   ]
  }
 ],
 "metadata": {
  "kernelspec": {
   "display_name": "Python 3",
   "language": "python",
   "name": "python3"
  },
  "language_info": {
   "codemirror_mode": {
    "name": "ipython",
    "version": 3
   },
   "file_extension": ".py",
   "mimetype": "text/x-python",
   "name": "python",
   "nbconvert_exporter": "python",
   "pygments_lexer": "ipython3",
   "version": "3.10.6"
  },
  "orig_nbformat": 4,
  "vscode": {
   "interpreter": {
    "hash": "24bf196111cc4e38f345d42d7aa42acfe0df89b8609c1643dd6d70213df8c26d"
   }
  }
 },
 "nbformat": 4,
 "nbformat_minor": 2
}
