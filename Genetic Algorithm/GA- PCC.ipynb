{
 "cells": [
  {
   "cell_type": "code",
   "execution_count": 1,
   "metadata": {},
   "outputs": [
    {
     "name": "stdout",
     "output_type": "stream",
     "text": [
      "['DATAA.csv', 'DATAB.csv']\n"
     ]
    },
    {
     "data": {
      "text/html": [
       "<div>\n",
       "<style scoped>\n",
       "    .dataframe tbody tr th:only-of-type {\n",
       "        vertical-align: middle;\n",
       "    }\n",
       "\n",
       "    .dataframe tbody tr th {\n",
       "        vertical-align: top;\n",
       "    }\n",
       "\n",
       "    .dataframe thead th {\n",
       "        text-align: right;\n",
       "    }\n",
       "</style>\n",
       "<table border=\"1\" class=\"dataframe\">\n",
       "  <thead>\n",
       "    <tr style=\"text-align: right;\">\n",
       "      <th></th>\n",
       "      <th>Carbon</th>\n",
       "      <th>Hydrogen</th>\n",
       "      <th>Nitrogen</th>\n",
       "      <th>Sulfur</th>\n",
       "      <th>Oxygen</th>\n",
       "      <th>Ash</th>\n",
       "      <th>Air_MF</th>\n",
       "      <th>Steam_MF</th>\n",
       "      <th>PYROL_T</th>\n",
       "      <th>GASIF_T</th>\n",
       "      <th>Water_WGS</th>\n",
       "      <th>CAOH2</th>\n",
       "      <th>CARBONAT_T</th>\n",
       "      <th>LNG_MF</th>\n",
       "      <th>H2_P</th>\n",
       "      <th>CO2_P</th>\n",
       "      <th>POWER</th>\n",
       "      <th>PCC_P</th>\n",
       "      <th>EXERGY</th>\n",
       "      <th>HHV</th>\n",
       "    </tr>\n",
       "  </thead>\n",
       "  <tbody>\n",
       "    <tr>\n",
       "      <th>0</th>\n",
       "      <td>47.9</td>\n",
       "      <td>6.3</td>\n",
       "      <td>0.32</td>\n",
       "      <td>0.01</td>\n",
       "      <td>44.27</td>\n",
       "      <td>1.2</td>\n",
       "      <td>300</td>\n",
       "      <td>500</td>\n",
       "      <td>640</td>\n",
       "      <td>750</td>\n",
       "      <td>700</td>\n",
       "      <td>1000</td>\n",
       "      <td>310</td>\n",
       "      <td>700</td>\n",
       "      <td>82.575165</td>\n",
       "      <td>382.298959</td>\n",
       "      <td>229.700598</td>\n",
       "      <td>1350.8379</td>\n",
       "      <td>331.935067</td>\n",
       "      <td>9115.993</td>\n",
       "    </tr>\n",
       "    <tr>\n",
       "      <th>1</th>\n",
       "      <td>47.9</td>\n",
       "      <td>6.3</td>\n",
       "      <td>0.32</td>\n",
       "      <td>0.01</td>\n",
       "      <td>44.27</td>\n",
       "      <td>1.2</td>\n",
       "      <td>300</td>\n",
       "      <td>500</td>\n",
       "      <td>640</td>\n",
       "      <td>750</td>\n",
       "      <td>700</td>\n",
       "      <td>1000</td>\n",
       "      <td>310</td>\n",
       "      <td>800</td>\n",
       "      <td>82.575165</td>\n",
       "      <td>437.164581</td>\n",
       "      <td>250.991074</td>\n",
       "      <td>1350.8379</td>\n",
       "      <td>331.935067</td>\n",
       "      <td>9115.993</td>\n",
       "    </tr>\n",
       "    <tr>\n",
       "      <th>2</th>\n",
       "      <td>47.9</td>\n",
       "      <td>6.3</td>\n",
       "      <td>0.32</td>\n",
       "      <td>0.01</td>\n",
       "      <td>44.27</td>\n",
       "      <td>1.2</td>\n",
       "      <td>300</td>\n",
       "      <td>500</td>\n",
       "      <td>640</td>\n",
       "      <td>750</td>\n",
       "      <td>700</td>\n",
       "      <td>1000</td>\n",
       "      <td>310</td>\n",
       "      <td>900</td>\n",
       "      <td>82.575165</td>\n",
       "      <td>492.030203</td>\n",
       "      <td>272.277819</td>\n",
       "      <td>1350.8379</td>\n",
       "      <td>331.935067</td>\n",
       "      <td>9115.993</td>\n",
       "    </tr>\n",
       "    <tr>\n",
       "      <th>3</th>\n",
       "      <td>47.9</td>\n",
       "      <td>6.3</td>\n",
       "      <td>0.32</td>\n",
       "      <td>0.01</td>\n",
       "      <td>44.27</td>\n",
       "      <td>1.2</td>\n",
       "      <td>300</td>\n",
       "      <td>500</td>\n",
       "      <td>640</td>\n",
       "      <td>750</td>\n",
       "      <td>700</td>\n",
       "      <td>1000</td>\n",
       "      <td>310</td>\n",
       "      <td>1000</td>\n",
       "      <td>82.575165</td>\n",
       "      <td>546.895824</td>\n",
       "      <td>293.561646</td>\n",
       "      <td>1350.8379</td>\n",
       "      <td>331.935067</td>\n",
       "      <td>9115.993</td>\n",
       "    </tr>\n",
       "    <tr>\n",
       "      <th>4</th>\n",
       "      <td>47.9</td>\n",
       "      <td>6.3</td>\n",
       "      <td>0.32</td>\n",
       "      <td>0.01</td>\n",
       "      <td>44.27</td>\n",
       "      <td>1.2</td>\n",
       "      <td>300</td>\n",
       "      <td>500</td>\n",
       "      <td>640</td>\n",
       "      <td>750</td>\n",
       "      <td>700</td>\n",
       "      <td>1000</td>\n",
       "      <td>310</td>\n",
       "      <td>1100</td>\n",
       "      <td>82.575165</td>\n",
       "      <td>601.761446</td>\n",
       "      <td>314.843148</td>\n",
       "      <td>1350.8379</td>\n",
       "      <td>331.935067</td>\n",
       "      <td>9115.993</td>\n",
       "    </tr>\n",
       "  </tbody>\n",
       "</table>\n",
       "</div>"
      ],
      "text/plain": [
       "   Carbon  Hydrogen  Nitrogen  Sulfur  Oxygen  Ash  Air_MF  Steam_MF  PYROL_T  \\\n",
       "0    47.9       6.3      0.32    0.01   44.27  1.2     300       500      640   \n",
       "1    47.9       6.3      0.32    0.01   44.27  1.2     300       500      640   \n",
       "2    47.9       6.3      0.32    0.01   44.27  1.2     300       500      640   \n",
       "3    47.9       6.3      0.32    0.01   44.27  1.2     300       500      640   \n",
       "4    47.9       6.3      0.32    0.01   44.27  1.2     300       500      640   \n",
       "\n",
       "   GASIF_T  Water_WGS  CAOH2  CARBONAT_T  LNG_MF       H2_P       CO2_P  \\\n",
       "0      750        700   1000         310     700  82.575165  382.298959   \n",
       "1      750        700   1000         310     800  82.575165  437.164581   \n",
       "2      750        700   1000         310     900  82.575165  492.030203   \n",
       "3      750        700   1000         310    1000  82.575165  546.895824   \n",
       "4      750        700   1000         310    1100  82.575165  601.761446   \n",
       "\n",
       "        POWER      PCC_P      EXERGY       HHV  \n",
       "0  229.700598  1350.8379  331.935067  9115.993  \n",
       "1  250.991074  1350.8379  331.935067  9115.993  \n",
       "2  272.277819  1350.8379  331.935067  9115.993  \n",
       "3  293.561646  1350.8379  331.935067  9115.993  \n",
       "4  314.843148  1350.8379  331.935067  9115.993  "
      ]
     },
     "execution_count": 1,
     "metadata": {},
     "output_type": "execute_result"
    }
   ],
   "source": [
    "import pandas as pd\n",
    "import numpy as np\n",
    "import matplotlib.pyplot as plt\n",
    "import warnings\n",
    "\n",
    "warnings.filterwarnings(\"ignore\")\n",
    "import os\n",
    "print(os.listdir(\"input\"))\n",
    "features=pd.read_csv('input/DATAA.csv')\n",
    "features.head(5)"
   ]
  },
  {
   "cell_type": "code",
   "execution_count": 2,
   "metadata": {},
   "outputs": [
    {
     "data": {
      "text/html": [
       "<div>\n",
       "<style scoped>\n",
       "    .dataframe tbody tr th:only-of-type {\n",
       "        vertical-align: middle;\n",
       "    }\n",
       "\n",
       "    .dataframe tbody tr th {\n",
       "        vertical-align: top;\n",
       "    }\n",
       "\n",
       "    .dataframe thead th {\n",
       "        text-align: right;\n",
       "    }\n",
       "</style>\n",
       "<table border=\"1\" class=\"dataframe\">\n",
       "  <thead>\n",
       "    <tr style=\"text-align: right;\">\n",
       "      <th></th>\n",
       "      <th>Carbon</th>\n",
       "      <th>Hydrogen</th>\n",
       "      <th>Nitrogen</th>\n",
       "      <th>Sulfur</th>\n",
       "      <th>Oxygen</th>\n",
       "      <th>Ash</th>\n",
       "      <th>Air_MF</th>\n",
       "      <th>Steam_MF</th>\n",
       "      <th>PYROL_T</th>\n",
       "      <th>GASIF_T</th>\n",
       "      <th>Water_WGS</th>\n",
       "      <th>CAOH2</th>\n",
       "      <th>CARBONAT_T</th>\n",
       "      <th>LNG_MF</th>\n",
       "      <th>H2_P</th>\n",
       "      <th>CO2_P</th>\n",
       "      <th>POWER</th>\n",
       "      <th>PCC_P</th>\n",
       "      <th>EXERGY</th>\n",
       "      <th>HHV</th>\n",
       "    </tr>\n",
       "  </thead>\n",
       "  <tbody>\n",
       "    <tr>\n",
       "      <th>6171974</th>\n",
       "      <td>45.8500</td>\n",
       "      <td>6.13000</td>\n",
       "      <td>0.35000</td>\n",
       "      <td>0.00000</td>\n",
       "      <td>44.8000</td>\n",
       "      <td>2.87</td>\n",
       "      <td>405</td>\n",
       "      <td>500</td>\n",
       "      <td>460</td>\n",
       "      <td>875</td>\n",
       "      <td>800</td>\n",
       "      <td>2240</td>\n",
       "      <td>694</td>\n",
       "      <td>1400</td>\n",
       "      <td>124.767908</td>\n",
       "      <td>638.055874</td>\n",
       "      <td>461.699778</td>\n",
       "      <td>3025.87689</td>\n",
       "      <td>380.602181</td>\n",
       "      <td>8599.60152</td>\n",
       "    </tr>\n",
       "    <tr>\n",
       "      <th>2914311</th>\n",
       "      <td>48.7872</td>\n",
       "      <td>8.13120</td>\n",
       "      <td>1.35520</td>\n",
       "      <td>0.00000</td>\n",
       "      <td>38.5264</td>\n",
       "      <td>3.20</td>\n",
       "      <td>300</td>\n",
       "      <td>800</td>\n",
       "      <td>370</td>\n",
       "      <td>824</td>\n",
       "      <td>1050</td>\n",
       "      <td>3150</td>\n",
       "      <td>502</td>\n",
       "      <td>800</td>\n",
       "      <td>173.307919</td>\n",
       "      <td>228.222438</td>\n",
       "      <td>396.479651</td>\n",
       "      <td>4255.13937</td>\n",
       "      <td>438.625698</td>\n",
       "      <td>9515.01968</td>\n",
       "    </tr>\n",
       "    <tr>\n",
       "      <th>12007589</th>\n",
       "      <td>53.9460</td>\n",
       "      <td>6.53575</td>\n",
       "      <td>1.34737</td>\n",
       "      <td>0.10055</td>\n",
       "      <td>36.2604</td>\n",
       "      <td>1.81</td>\n",
       "      <td>370</td>\n",
       "      <td>780</td>\n",
       "      <td>400</td>\n",
       "      <td>800</td>\n",
       "      <td>820</td>\n",
       "      <td>1720</td>\n",
       "      <td>310</td>\n",
       "      <td>1300</td>\n",
       "      <td>77.040764</td>\n",
       "      <td>711.492689</td>\n",
       "      <td>415.779966</td>\n",
       "      <td>2323.44118</td>\n",
       "      <td>396.144528</td>\n",
       "      <td>8606.03929</td>\n",
       "    </tr>\n",
       "    <tr>\n",
       "      <th>8183224</th>\n",
       "      <td>43.7100</td>\n",
       "      <td>5.85000</td>\n",
       "      <td>0.01000</td>\n",
       "      <td>0.00000</td>\n",
       "      <td>45.1600</td>\n",
       "      <td>5.27</td>\n",
       "      <td>370</td>\n",
       "      <td>730</td>\n",
       "      <td>450</td>\n",
       "      <td>900</td>\n",
       "      <td>980</td>\n",
       "      <td>2600</td>\n",
       "      <td>566</td>\n",
       "      <td>800</td>\n",
       "      <td>129.368686</td>\n",
       "      <td>403.130903</td>\n",
       "      <td>375.824684</td>\n",
       "      <td>3512.17853</td>\n",
       "      <td>472.659452</td>\n",
       "      <td>7872.52800</td>\n",
       "    </tr>\n",
       "    <tr>\n",
       "      <th>9229618</th>\n",
       "      <td>53.9109</td>\n",
       "      <td>6.10698</td>\n",
       "      <td>0.36038</td>\n",
       "      <td>0.00000</td>\n",
       "      <td>37.1217</td>\n",
       "      <td>2.50</td>\n",
       "      <td>440</td>\n",
       "      <td>900</td>\n",
       "      <td>430</td>\n",
       "      <td>850</td>\n",
       "      <td>1200</td>\n",
       "      <td>3300</td>\n",
       "      <td>374</td>\n",
       "      <td>800</td>\n",
       "      <td>164.437667</td>\n",
       "      <td>279.833278</td>\n",
       "      <td>415.624148</td>\n",
       "      <td>4457.76506</td>\n",
       "      <td>499.622822</td>\n",
       "      <td>8598.03007</td>\n",
       "    </tr>\n",
       "  </tbody>\n",
       "</table>\n",
       "</div>"
      ],
      "text/plain": [
       "           Carbon  Hydrogen  Nitrogen   Sulfur   Oxygen   Ash  Air_MF  \\\n",
       "6171974   45.8500   6.13000   0.35000  0.00000  44.8000  2.87     405   \n",
       "2914311   48.7872   8.13120   1.35520  0.00000  38.5264  3.20     300   \n",
       "12007589  53.9460   6.53575   1.34737  0.10055  36.2604  1.81     370   \n",
       "8183224   43.7100   5.85000   0.01000  0.00000  45.1600  5.27     370   \n",
       "9229618   53.9109   6.10698   0.36038  0.00000  37.1217  2.50     440   \n",
       "\n",
       "          Steam_MF  PYROL_T  GASIF_T  Water_WGS  CAOH2  CARBONAT_T  LNG_MF  \\\n",
       "6171974        500      460      875        800   2240         694    1400   \n",
       "2914311        800      370      824       1050   3150         502     800   \n",
       "12007589       780      400      800        820   1720         310    1300   \n",
       "8183224        730      450      900        980   2600         566     800   \n",
       "9229618        900      430      850       1200   3300         374     800   \n",
       "\n",
       "                H2_P       CO2_P       POWER       PCC_P      EXERGY  \\\n",
       "6171974   124.767908  638.055874  461.699778  3025.87689  380.602181   \n",
       "2914311   173.307919  228.222438  396.479651  4255.13937  438.625698   \n",
       "12007589   77.040764  711.492689  415.779966  2323.44118  396.144528   \n",
       "8183224   129.368686  403.130903  375.824684  3512.17853  472.659452   \n",
       "9229618   164.437667  279.833278  415.624148  4457.76506  499.622822   \n",
       "\n",
       "                 HHV  \n",
       "6171974   8599.60152  \n",
       "2914311   9515.01968  \n",
       "12007589  8606.03929  \n",
       "8183224   7872.52800  \n",
       "9229618   8598.03007  "
      ]
     },
     "execution_count": 2,
     "metadata": {},
     "output_type": "execute_result"
    }
   ],
   "source": [
    "features=features.sample(n=1000000, replace=True,random_state=40)\n",
    "features.head()"
   ]
  },
  {
   "cell_type": "code",
   "execution_count": 3,
   "metadata": {},
   "outputs": [
    {
     "data": {
      "text/plain": [
       "pandas.core.frame.DataFrame"
      ]
     },
     "execution_count": 3,
     "metadata": {},
     "output_type": "execute_result"
    }
   ],
   "source": [
    "#from sklearn.model_selection import train_test_split\n",
    "#train, test = train_test_split(features,test_size=0.20,random_state=40)\n",
    "#train, valid=train_test_split(train, test_size=0.125, random_state=40)\n",
    "\n",
    "\n",
    "#col_targets=['H2_P','CO2_P','POWER','PCC_P','EXERGY','HHV']\n",
    "col_targets=['PCC_P']\n",
    "col_randoms = [\"Carbon\", \"Hydrogen\",\"Nitrogen\",\"Sulfur\",\"Oxygen\",\"Ash\",\"Air_MF\",\"Steam_MF\",\"PYROL_T\", \"GASIF_T\",\"Water_WGS\",\"CAOH2\",\"CARBONAT_T\", \"LNG_MF\"]\n",
    "\n",
    "features_ = features[col_randoms ]\n",
    "labels = features[col_targets]\n",
    "#features= features.drop(col_targets, axis = 1)# Remove the Crop Yield from the features\n",
    "#feature_list = list(features.columns)# Saving feature names for later use\n",
    "#features = np.array(features)# Convert features to numpy array\n",
    "type(features)"
   ]
  },
  {
   "cell_type": "code",
   "execution_count": 4,
   "metadata": {},
   "outputs": [],
   "source": [
    "from sklearn.model_selection import train_test_split\n",
    "train_features, test_features, train_labels, test_labels = train_test_split(features_, labels, test_size = 0.30, random_state = 42)"
   ]
  },
  {
   "cell_type": "code",
   "execution_count": 5,
   "metadata": {},
   "outputs": [],
   "source": [
    "import numpy as np\n",
    "from sklearn.ensemble import RandomForestRegressor\n",
    "from sklearn.model_selection import cross_val_score\n",
    "from sklearn.model_selection import GridSearchCV\n",
    "from sklearn.metrics import accuracy_score"
   ]
  },
  {
   "cell_type": "code",
   "execution_count": 6,
   "metadata": {},
   "outputs": [],
   "source": [
    "rfr=RandomForestRegressor(random_state=40)"
   ]
  },
  {
   "cell_type": "code",
   "execution_count": 7,
   "metadata": {},
   "outputs": [],
   "source": [
    "param_grid = {\n",
    "    'bootstrap': [True],\n",
    "    'max_depth': [int(x) for x in np.linspace(10,100,2,endpoint=True,dtype = int)],\n",
    "    'min_samples_leaf': [int(x) for x in np.linspace(2,10,2,endpoint=True,dtype = int)],\n",
    "    'min_samples_split':[int(x) for x in np.linspace(2,15,2,endpoint=True,dtype = int)],\n",
    "    'n_estimators': [int(x) for x in np.linspace(50,1200,3,endpoint=True,dtype = int)]\n",
    "}"
   ]
  },
  {
   "cell_type": "code",
   "execution_count": 8,
   "metadata": {},
   "outputs": [
    {
     "name": "stdout",
     "output_type": "stream",
     "text": [
      "Fitting 6 folds for each of 24 candidates, totalling 144 fits\n"
     ]
    },
    {
     "data": {
      "text/plain": [
       "GridSearchCV(cv=6, estimator=RandomForestRegressor(random_state=40), n_jobs=-1,\n",
       "             param_grid={'bootstrap': [True], 'max_depth': [10, 100],\n",
       "                         'min_samples_leaf': [2, 10],\n",
       "                         'min_samples_split': [2, 15],\n",
       "                         'n_estimators': [50, 625, 1200]},\n",
       "             scoring='neg_mean_absolute_error', verbose=2)"
      ]
     },
     "execution_count": 8,
     "metadata": {},
     "output_type": "execute_result"
    }
   ],
   "source": [
    "CV_rfc = GridSearchCV(estimator=rfr, param_grid=param_grid, cv= 6,scoring='neg_mean_absolute_error',n_jobs = -1, verbose = 2)\n",
    "CV_rfc.fit(train_features,train_labels)"
   ]
  },
  {
   "cell_type": "code",
   "execution_count": 9,
   "metadata": {},
   "outputs": [
    {
     "data": {
      "text/plain": [
       "['./BaseLineModelrandom_forest_Regression.joblib']"
      ]
     },
     "execution_count": 9,
     "metadata": {},
     "output_type": "execute_result"
    }
   ],
   "source": [
    "BaseLineRFR=RandomForestRegressor(bootstrap=True,\n",
    "                                             max_depth=80,\n",
    "                                             min_samples_leaf=3,\n",
    "                                             min_samples_split=8,\n",
    "                                             n_estimators=200)\n",
    "import joblib\n",
    "\n",
    "joblib.dump(BaseLineRFR, \"./BaseLineModelrandom_forest_Regression.joblib\",compress=3)"
   ]
  },
  {
   "cell_type": "code",
   "execution_count": 10,
   "metadata": {},
   "outputs": [],
   "source": [
    "BaseLineModel = joblib.load(\"./BaseLineModelrandom_forest_Regression.joblib\")\n",
    "BaseLineModel.fit(train_features,train_labels)\n",
    "Bpredicted_labels_train_features=BaseLineModel.predict(train_features)\n",
    "Bpredicted_labels_test_features=BaseLineModel.predict(test_features)"
   ]
  },
  {
   "cell_type": "code",
   "execution_count": 11,
   "metadata": {},
   "outputs": [
    {
     "name": "stdout",
     "output_type": "stream",
     "text": [
      "MAE of Baseline Random Forest Regression Model on Training Data:  0.02992594123208604\n",
      "MAE of Baseline Random Forest Regression Model on Testing Data:  0.044082508645565385\n",
      "R2 of Baseline Random Forest Regression Model on Training Data:  0.9999999234676169\n",
      "R2 of Baseline Random Forest Regression Model on Testing Data:  0.9999998306114044\n",
      "RMSE of Baseline Random Forest Regression Model on Training Data:  0.274304861242227\n",
      "RMSE of Baseline Random Forest Regression Model on Testing Data:  0.4078465224263701\n"
     ]
    }
   ],
   "source": [
    "from scipy.stats import pearsonr\n",
    "from sklearn.metrics import mean_squared_error\n",
    "from sklearn.metrics import mean_absolute_error\n",
    "from sklearn.metrics import r2_score\n",
    "\n",
    "#print(\"Correlation Coefficient (r) of Baseline Random Forest Regression Model on Training Data: \",pearsonr(train_labels,Bpredicted_labels_train_features))\n",
    "#print(\"Correlation Coefficient (r) of Baseline Random Forest Regression Model on Testing Data: \",pearsonr(test_labels,Bpredicted_labels_test_features))\n",
    "\n",
    "print(\"MAE of Baseline Random Forest Regression Model on Training Data: \",mean_absolute_error(train_labels,Bpredicted_labels_train_features))\n",
    "print(\"MAE of Baseline Random Forest Regression Model on Testing Data: \",mean_absolute_error(test_labels,Bpredicted_labels_test_features))\n",
    "\n",
    "print(\"R2 of Baseline Random Forest Regression Model on Training Data: \",r2_score(train_labels,Bpredicted_labels_train_features))\n",
    "print(\"R2 of Baseline Random Forest Regression Model on Testing Data: \",r2_score(test_labels,Bpredicted_labels_test_features))\n",
    "\n",
    "print(\"RMSE of Baseline Random Forest Regression Model on Training Data: \",np.sqrt(mean_squared_error(train_labels,Bpredicted_labels_train_features)))\n",
    "print(\"RMSE of Baseline Random Forest Regression Model on Testing Data: \",np.sqrt(mean_squared_error(test_labels,Bpredicted_labels_test_features)))"
   ]
  },
  {
   "cell_type": "code",
   "execution_count": 12,
   "metadata": {},
   "outputs": [
    {
     "name": "stdout",
     "output_type": "stream",
     "text": [
      "Selecting features with genetic algorithm.\n",
      "gen\tnevals\tavg                                  \tstd                                  \tmin                                  \tmax                            \n",
      "0  \t20    \t[-526.797389    2.95        0.660772]\t[ 384.17031     1.395529    0.481816]\t[-838.996936    1.          0.023468]\t[-2.420474  5.        1.364056]\n",
      "1  \t4     \t[-122.655352    3.5         0.176907]\t[ 284.008361    1.161895    0.359276]\t[-801.291745    2.          0.023468]\t[-2.420474  5.        1.110755]\n",
      "2  \t0     \t[-2.663186  3.25      0.028569]      \t[ 0.26458   1.042833  0.002641]      \t[-3.44583   2.        0.023738]      \t[-2.420474  5.        0.031725]\n",
      "3  \t2     \t[-2.529367  3.6       0.027637]      \t[ 0.163978  0.8       0.002052]      \t[-2.855155  2.        0.025916]      \t[-2.420474  4.        0.031725]\n",
      "4  \t0     \t[-2.431457  4.        0.026204]      \t[ 0.019024  0.        0.000499]      \t[-2.464426  4.        0.025916]      \t[-2.420474  4.        0.027076]\n",
      "5  \t0     \t[-2.420474  4.        0.025916]      \t[ 0.  0.  0.]                        \t[-2.420474  4.        0.025916]      \t[-2.420474  4.        0.025916]\n",
      "6  \t0     \t[-2.420474  4.        0.025916]      \t[ 0.  0.  0.]                        \t[-2.420474  4.        0.025916]      \t[-2.420474  4.        0.025916]\n",
      "7  \t0     \t[-2.420474  4.        0.025916]      \t[ 0.  0.  0.]                        \t[-2.420474  4.        0.025916]      \t[-2.420474  4.        0.025916]\n",
      "8  \t0     \t[-2.420474  4.        0.025916]      \t[ 0.  0.  0.]                        \t[-2.420474  4.        0.025916]      \t[-2.420474  4.        0.025916]\n",
      "9  \t0     \t[-2.420474  4.        0.025916]      \t[ 0.  0.  0.]                        \t[-2.420474  4.        0.025916]      \t[-2.420474  4.        0.025916]\n",
      "10 \t0     \t[-2.420474  4.        0.025916]      \t[ 0.  0.  0.]                        \t[-2.420474  4.        0.025916]      \t[-2.420474  4.        0.025916]\n"
     ]
    }
   ],
   "source": [
    "from sklearn import linear_model\n",
    "from genetic_selection import GeneticSelectionCV\n",
    "\n",
    "                                        \n",
    "Featureselector = GeneticSelectionCV(BaseLineModel,\n",
    "                                  cv=5,\n",
    "                                  verbose=1,\n",
    "                                  scoring=\"neg_mean_absolute_error\", \n",
    "                                  max_features=5,\n",
    "                                  n_population=20,\n",
    "                                  crossover_proba=0.05,\n",
    "                                  mutation_proba=0.001,\n",
    "                                  n_generations=50,\n",
    "                                  crossover_independent_proba=0.5,\n",
    "                                  mutation_independent_proba=0.05,\n",
    "                                  tournament_size=3,\n",
    "                                  n_gen_no_change=10,\n",
    "                                  caching=True,\n",
    "                                  n_jobs=-1)\n",
    "FeatureselectorModel = Featureselector.fit(train_features,train_labels)"
   ]
  },
  {
   "cell_type": "code",
   "execution_count": 13,
   "metadata": {},
   "outputs": [
    {
     "data": {
      "image/png": "[encoded data removed]",
      "text/plain": [
       "<Figure size 360x360 with 1 Axes>"
      ]
     },
     "metadata": {
      "needs_background": "light"
     },
     "output_type": "display_data"
    },
    {
     "data": {
      "text/html": [
       "<div>\n",
       "<style scoped>\n",
       "    .dataframe tbody tr th:only-of-type {\n",
       "        vertical-align: middle;\n",
       "    }\n",
       "\n",
       "    .dataframe tbody tr th {\n",
       "        vertical-align: top;\n",
       "    }\n",
       "\n",
       "    .dataframe thead th {\n",
       "        text-align: right;\n",
       "    }\n",
       "</style>\n",
       "<table border=\"1\" class=\"dataframe\">\n",
       "  <thead>\n",
       "    <tr style=\"text-align: right;\">\n",
       "      <th></th>\n",
       "      <th>Feature</th>\n",
       "      <th>Support</th>\n",
       "      <th>Score</th>\n",
       "    </tr>\n",
       "  </thead>\n",
       "  <tbody>\n",
       "    <tr>\n",
       "      <th>0</th>\n",
       "      <td>Carbon</td>\n",
       "      <td>False</td>\n",
       "      <td>-2.420474</td>\n",
       "    </tr>\n",
       "    <tr>\n",
       "      <th>1</th>\n",
       "      <td>Hydrogen</td>\n",
       "      <td>False</td>\n",
       "      <td>-2.420474</td>\n",
       "    </tr>\n",
       "    <tr>\n",
       "      <th>2</th>\n",
       "      <td>Nitrogen</td>\n",
       "      <td>False</td>\n",
       "      <td>-2.420474</td>\n",
       "    </tr>\n",
       "    <tr>\n",
       "      <th>3</th>\n",
       "      <td>Sulfur</td>\n",
       "      <td>True</td>\n",
       "      <td>-2.420474</td>\n",
       "    </tr>\n",
       "    <tr>\n",
       "      <th>4</th>\n",
       "      <td>Oxygen</td>\n",
       "      <td>False</td>\n",
       "      <td>-2.420474</td>\n",
       "    </tr>\n",
       "    <tr>\n",
       "      <th>5</th>\n",
       "      <td>Ash</td>\n",
       "      <td>False</td>\n",
       "      <td>-2.420474</td>\n",
       "    </tr>\n",
       "    <tr>\n",
       "      <th>6</th>\n",
       "      <td>Air_MF</td>\n",
       "      <td>False</td>\n",
       "      <td>-2.420474</td>\n",
       "    </tr>\n",
       "    <tr>\n",
       "      <th>7</th>\n",
       "      <td>Steam_MF</td>\n",
       "      <td>True</td>\n",
       "      <td>-2.420474</td>\n",
       "    </tr>\n",
       "    <tr>\n",
       "      <th>8</th>\n",
       "      <td>PYROL_T</td>\n",
       "      <td>False</td>\n",
       "      <td>-2.420474</td>\n",
       "    </tr>\n",
       "    <tr>\n",
       "      <th>9</th>\n",
       "      <td>GASIF_T</td>\n",
       "      <td>False</td>\n",
       "      <td>-2.420474</td>\n",
       "    </tr>\n",
       "    <tr>\n",
       "      <th>10</th>\n",
       "      <td>Water_WGS</td>\n",
       "      <td>True</td>\n",
       "      <td>-2.420474</td>\n",
       "    </tr>\n",
       "    <tr>\n",
       "      <th>11</th>\n",
       "      <td>CAOH2</td>\n",
       "      <td>True</td>\n",
       "      <td>None</td>\n",
       "    </tr>\n",
       "    <tr>\n",
       "      <th>12</th>\n",
       "      <td>CARBONAT_T</td>\n",
       "      <td>False</td>\n",
       "      <td>None</td>\n",
       "    </tr>\n",
       "    <tr>\n",
       "      <th>13</th>\n",
       "      <td>LNG_MF</td>\n",
       "      <td>False</td>\n",
       "      <td>None</td>\n",
       "    </tr>\n",
       "  </tbody>\n",
       "</table>\n",
       "</div>"
      ],
      "text/plain": [
       "       Feature Support     Score\n",
       "0       Carbon   False -2.420474\n",
       "1     Hydrogen   False -2.420474\n",
       "2     Nitrogen   False -2.420474\n",
       "3       Sulfur    True -2.420474\n",
       "4       Oxygen   False -2.420474\n",
       "5          Ash   False -2.420474\n",
       "6       Air_MF   False -2.420474\n",
       "7     Steam_MF    True -2.420474\n",
       "8      PYROL_T   False -2.420474\n",
       "9      GASIF_T   False -2.420474\n",
       "10   Water_WGS    True -2.420474\n",
       "11       CAOH2    True      None\n",
       "12  CARBONAT_T   False      None\n",
       "13      LNG_MF   False      None"
      ]
     },
     "execution_count": 13,
     "metadata": {},
     "output_type": "execute_result"
    }
   ],
   "source": [
    "featurename= list(features_.columns.values)\n",
    "\n",
    "df = pd.DataFrame((featurename,Featureselector.support_,Featureselector.generation_scores_))\n",
    "\n",
    "Transpose=df.T\n",
    "Transpose.columns =['Feature','Support','Score']\n",
    "Transpose.head()\n",
    "import seaborn as sns\n",
    "import matplotlib.pyplot as plt\n",
    "sns.factorplot(x= 'Feature', y= 'Support', data= Transpose, kind = 'bar', legend='True')\n",
    "plt.title('Feature Selection',fontsize=15)\n",
    "plt.show()\n",
    "Transpose"
   ]
  },
  {
   "cell_type": "code",
   "execution_count": 14,
   "metadata": {},
   "outputs": [
    {
     "name": "stdout",
     "output_type": "stream",
     "text": [
      "Correlation Coefficient (r) of Optimised Random Forest Regression Model on Training Data:  0.9999546005204848\n",
      "Correlation Coefficient (r) of Optimised Random Forest Regression Model on Testing Data:  0.9999535754217781\n",
      "MAE of Optimised Random Forest Regression Model on Training Data:  2.3881457574757814\n",
      "MAE of Optimised Random Forest Regression Model on Testing Data:  2.4102216494104245\n",
      "RMSE of Optimised Random Forest Regression Model on Training Data:  6.680920788944767\n",
      "RMSE of Optimised Random Forest Regression Model on Testning Data:  6.75194138334888\n"
     ]
    }
   ],
   "source": [
    "predicted_labels_train_features=FeatureselectorModel .predict(train_features)\n",
    "predicted_labels_test_features=FeatureselectorModel .predict(test_features)\n",
    "\n",
    "print(\"Correlation Coefficient (r) of Optimised Random Forest Regression Model on Training Data: \",r2_score(train_labels,predicted_labels_train_features))\n",
    "print(\"Correlation Coefficient (r) of Optimised Random Forest Regression Model on Testing Data: \",r2_score(test_labels,predicted_labels_test_features))\n",
    "\n",
    "print(\"MAE of Optimised Random Forest Regression Model on Training Data: \",mean_absolute_error(train_labels,predicted_labels_train_features))#t/ha\n",
    "print(\"MAE of Optimised Random Forest Regression Model on Testing Data: \",mean_absolute_error(test_labels,predicted_labels_test_features))#t/ha\n",
    "\n",
    "print(\"RMSE of Optimised Random Forest Regression Model on Training Data: \",np.sqrt(mean_squared_error(train_labels,predicted_labels_train_features)))#t/ha\n",
    "print(\"RMSE of Optimised Random Forest Regression Model on Testning Data: \",np.sqrt(mean_squared_error(test_labels,predicted_labels_test_features)))#t/ha"
   ]
  },
  {
   "cell_type": "code",
   "execution_count": 15,
   "metadata": {},
   "outputs": [
    {
     "data": {
      "text/plain": [
       "<matplotlib.legend.Legend at 0x1f948c42290>"
      ]
     },
     "execution_count": 15,
     "metadata": {},
     "output_type": "execute_result"
    },
    {
     "data": {
      "image/png": "[encoded data removed]",
      "text/plain": [
       "<Figure size 432x288 with 1 Axes>"
      ]
     },
     "metadata": {
      "needs_background": "light"
     },
     "output_type": "display_data"
    }
   ],
   "source": [
    "plt.plot(predicted_labels_train_features)\n",
    "plt.plot(predicted_labels_test_features)\n",
    "plt.plot(Bpredicted_labels_train_features)\n",
    "plt.plot(Bpredicted_labels_train_features)\n",
    "\n",
    "plt.legend(['predicted_labels_train_features','predicted_labels_test_features'])"
   ]
  },
  {
   "cell_type": "code",
   "execution_count": null,
   "metadata": {},
   "outputs": [],
   "source": []
  },
  {
   "cell_type": "code",
   "execution_count": 16,
   "metadata": {},
   "outputs": [
    {
     "data": {
      "text/plain": [
       "<Figure size 1080x360 with 0 Axes>"
      ]
     },
     "metadata": {},
     "output_type": "display_data"
    }
   ],
   "source": [
    "fig = plt.figure(figsize=(15,5))"
   ]
  },
  {
   "cell_type": "code",
   "execution_count": 17,
   "metadata": {},
   "outputs": [
    {
     "name": "stderr",
     "output_type": "stream",
     "text": [
      "No artists with labels found to put in legend.  Note that artists whose label start with an underscore are ignored when legend() is called with no argument.\n"
     ]
    },
    {
     "data": {
      "text/plain": [
       "<matplotlib.legend.Legend at 0x1f94ebdcd30>"
      ]
     },
     "execution_count": 17,
     "metadata": {},
     "output_type": "execute_result"
    },
    {
     "data": {
      "image/png": "[encoded data removed]",
      "text/plain": [
       "<Figure size 432x288 with 1 Axes>"
      ]
     },
     "metadata": {
      "needs_background": "light"
     },
     "output_type": "display_data"
    }
   ],
   "source": [
    "ax1 = plt.subplot(1, 2, 1)\n",
    "ax1.scatter(train_labels,Bpredicted_labels_train_features,s=10, c='b', marker=\"o\")\n",
    "ax1.scatter(test_labels,Bpredicted_labels_test_features,s=10, c='r', marker=\"o\")\n",
    "plt.xlabel('Observed Yield (t/ha)',fontsize=15)\n",
    "plt.ylabel('Predicted Yield(t/ha)',fontsize=15)\n",
    "plt.title('Baseline Model',fontsize=15)\n",
    "plt.legend(loc=\"lower right\")"
   ]
  },
  {
   "cell_type": "code",
   "execution_count": 18,
   "metadata": {},
   "outputs": [
    {
     "name": "stderr",
     "output_type": "stream",
     "text": [
      "No artists with labels found to put in legend.  Note that artists whose label start with an underscore are ignored when legend() is called with no argument.\n"
     ]
    },
    {
     "data": {
      "image/png": "[encoded data removed]",
      "text/plain": [
       "<Figure size 432x288 with 1 Axes>"
      ]
     },
     "metadata": {
      "needs_background": "light"
     },
     "output_type": "display_data"
    }
   ],
   "source": [
    "ax1 = plt.subplot(1, 2, 2)\n",
    "ax1.scatter(train_labels,predicted_labels_train_features,s=10, c='b', marker=\"o\")\n",
    "ax1.scatter(test_labels,predicted_labels_test_features,s=10, c='r', marker=\"o\")\n",
    "plt.xlabel('Observed Yield (t/ha)',fontsize=10)\n",
    "plt.ylabel('Predicted Yield(t/ha)',fontsize=10)\n",
    "plt.title('Optimised Model',fontsize=10)\n",
    "plt.legend(loc=\"lower right\")\n",
    "plt.show()"
   ]
  },
  {
   "cell_type": "code",
   "execution_count": 19,
   "metadata": {},
   "outputs": [
    {
     "data": {
      "text/plain": [
       "Text(0, 0.5, 'Predicted')"
      ]
     },
     "execution_count": 19,
     "metadata": {},
     "output_type": "execute_result"
    },
    {
     "data": {
      "image/png": "[encoded data removed]",
      "text/plain": [
       "<Figure size 432x288 with 1 Axes>"
      ]
     },
     "metadata": {
      "needs_background": "light"
     },
     "output_type": "display_data"
    }
   ],
   "source": [
    "plt.scatter(test_labels,predicted_labels_test_features)\n",
    "plt.plot([test_labels.min(),test_labels.max()],[predicted_labels_test_features.min(),predicted_labels_test_features.max()], color='red')\n",
    "#plt.scatter(valid_y,valid_y, color='red')\n",
    "plt.xlabel('Actual')\n",
    "plt.ylabel('Predicted')"
   ]
  }
 ],
 "metadata": {
  "kernelspec": {
   "display_name": "Python 3",
   "language": "python",
   "name": "python3"
  },
  "language_info": {
   "codemirror_mode": {
    "name": "ipython",
    "version": 3
   },
   "file_extension": ".py",
   "mimetype": "text/x-python",
   "name": "python",
   "nbconvert_exporter": "python",
   "pygments_lexer": "ipython3",
   "version": "3.10.6"
  },
  "orig_nbformat": 4,
  "vscode": {
   "interpreter": {
    "hash": "24bf196111cc4e38f345d42d7aa42acfe0df89b8609c1643dd6d70213df8c26d"
   }
  }
 },
 "nbformat": 4,
 "nbformat_minor": 2
}
